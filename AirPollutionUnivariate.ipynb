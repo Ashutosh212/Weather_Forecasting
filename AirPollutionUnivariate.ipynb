{
 "cells": [
  {
   "cell_type": "code",
   "execution_count": 1,
   "metadata": {
    "colab": {},
    "colab_type": "code",
    "id": "XkGu1rkrzf-y"
   },
   "outputs": [],
   "source": [
    "#Importing libraries and loading dataset\n",
    "import numpy as np\n",
    "%matplotlib inline\n",
    "import matplotlib.pyplot as plt\n",
    "import pandas as pd \n",
    "from datetime import datetime\n",
    "\n",
    "#Conert into datetime format\n",
    "def parse(x):\n",
    "    return datetime.strptime(x, '%Y %m %d %H')\n",
    "                          \n",
    "org_col_names=[\"No\", \"year\",\"month\", \"day\", \"hour\", \"pm2.5\", \"DEWP\",\"TEMP\", \"PRES\", \"cbwd\", \"Iws\", \"Is\", \"Ir\"]\n",
    "col_names = ['pollution', 'dew', 'temp', 'pressure', 'w_dir', 'w_speed', 'snow', 'rain']   \n",
    "                            \n",
    "dataset = pd.read_csv('AirPollution.csv',index_col=0, date_parser=parse,parse_dates=[['year', 'month', 'day', 'hour']])                            "
   ]
  },
  {
   "cell_type": "code",
   "execution_count": 2,
   "metadata": {
    "colab": {
     "base_uri": "https://localhost:8080/",
     "height": 227
    },
    "colab_type": "code",
    "id": "ln7TLEBqz-bH",
    "outputId": "ee7e4eb1-d92f-4fb9-8de6-e554a69971be"
   },
   "outputs": [
    {
     "data": {
      "text/html": [
       "<div>\n",
       "<style scoped>\n",
       "    .dataframe tbody tr th:only-of-type {\n",
       "        vertical-align: middle;\n",
       "    }\n",
       "\n",
       "    .dataframe tbody tr th {\n",
       "        vertical-align: top;\n",
       "    }\n",
       "\n",
       "    .dataframe thead th {\n",
       "        text-align: right;\n",
       "    }\n",
       "</style>\n",
       "<table border=\"1\" class=\"dataframe\">\n",
       "  <thead>\n",
       "    <tr style=\"text-align: right;\">\n",
       "      <th></th>\n",
       "      <th>No</th>\n",
       "      <th>pm2.5</th>\n",
       "      <th>DEWP</th>\n",
       "      <th>TEMP</th>\n",
       "      <th>PRES</th>\n",
       "      <th>cbwd</th>\n",
       "      <th>Iws</th>\n",
       "      <th>Is</th>\n",
       "      <th>Ir</th>\n",
       "    </tr>\n",
       "    <tr>\n",
       "      <th>year_month_day_hour</th>\n",
       "      <th></th>\n",
       "      <th></th>\n",
       "      <th></th>\n",
       "      <th></th>\n",
       "      <th></th>\n",
       "      <th></th>\n",
       "      <th></th>\n",
       "      <th></th>\n",
       "      <th></th>\n",
       "    </tr>\n",
       "  </thead>\n",
       "  <tbody>\n",
       "    <tr>\n",
       "      <th>2010-01-01 00:00:00</th>\n",
       "      <td>1</td>\n",
       "      <td>NaN</td>\n",
       "      <td>-21</td>\n",
       "      <td>-11.0</td>\n",
       "      <td>1021.0</td>\n",
       "      <td>NW</td>\n",
       "      <td>1.79</td>\n",
       "      <td>0</td>\n",
       "      <td>0</td>\n",
       "    </tr>\n",
       "    <tr>\n",
       "      <th>2010-01-01 01:00:00</th>\n",
       "      <td>2</td>\n",
       "      <td>NaN</td>\n",
       "      <td>-21</td>\n",
       "      <td>-12.0</td>\n",
       "      <td>1020.0</td>\n",
       "      <td>NW</td>\n",
       "      <td>4.92</td>\n",
       "      <td>0</td>\n",
       "      <td>0</td>\n",
       "    </tr>\n",
       "    <tr>\n",
       "      <th>2010-01-01 02:00:00</th>\n",
       "      <td>3</td>\n",
       "      <td>NaN</td>\n",
       "      <td>-21</td>\n",
       "      <td>-11.0</td>\n",
       "      <td>1019.0</td>\n",
       "      <td>NW</td>\n",
       "      <td>6.71</td>\n",
       "      <td>0</td>\n",
       "      <td>0</td>\n",
       "    </tr>\n",
       "    <tr>\n",
       "      <th>2010-01-01 03:00:00</th>\n",
       "      <td>4</td>\n",
       "      <td>NaN</td>\n",
       "      <td>-21</td>\n",
       "      <td>-14.0</td>\n",
       "      <td>1019.0</td>\n",
       "      <td>NW</td>\n",
       "      <td>9.84</td>\n",
       "      <td>0</td>\n",
       "      <td>0</td>\n",
       "    </tr>\n",
       "    <tr>\n",
       "      <th>2010-01-01 04:00:00</th>\n",
       "      <td>5</td>\n",
       "      <td>NaN</td>\n",
       "      <td>-20</td>\n",
       "      <td>-12.0</td>\n",
       "      <td>1018.0</td>\n",
       "      <td>NW</td>\n",
       "      <td>12.97</td>\n",
       "      <td>0</td>\n",
       "      <td>0</td>\n",
       "    </tr>\n",
       "  </tbody>\n",
       "</table>\n",
       "</div>"
      ],
      "text/plain": [
       "                     No  pm2.5  DEWP  TEMP    PRES cbwd    Iws  Is  Ir\n",
       "year_month_day_hour                                                   \n",
       "2010-01-01 00:00:00   1    NaN   -21 -11.0  1021.0   NW   1.79   0   0\n",
       "2010-01-01 01:00:00   2    NaN   -21 -12.0  1020.0   NW   4.92   0   0\n",
       "2010-01-01 02:00:00   3    NaN   -21 -11.0  1019.0   NW   6.71   0   0\n",
       "2010-01-01 03:00:00   4    NaN   -21 -14.0  1019.0   NW   9.84   0   0\n",
       "2010-01-01 04:00:00   5    NaN   -20 -12.0  1018.0   NW  12.97   0   0"
      ]
     },
     "execution_count": 2,
     "metadata": {},
     "output_type": "execute_result"
    }
   ],
   "source": [
    "dataset.head()"
   ]
  },
  {
   "cell_type": "code",
   "execution_count": 3,
   "metadata": {
    "colab": {
     "base_uri": "https://localhost:8080/",
     "height": 141
    },
    "colab_type": "code",
    "id": "Td6G2vYEz-p1",
    "outputId": "9fb2b0bc-ac4e-400d-abc9-be04e0a2fb72"
   },
   "outputs": [
    {
     "name": "stdout",
     "output_type": "stream",
     "text": [
      "                     pollution  dew  temp  pressure w_dir  w_speed  snow  rain\n",
      "year_month_day_hour                                                           \n",
      "2010-01-02 00:00:00      129.0  -16  -4.0    1020.0    SE     1.79     0     0\n",
      "2010-01-02 01:00:00      148.0  -15  -4.0    1020.0    SE     2.68     0     0\n",
      "2010-01-02 02:00:00      159.0  -11  -5.0    1021.0    SE     3.57     0     0\n",
      "2010-01-02 03:00:00      181.0   -7  -5.0    1022.0    SE     5.36     1     0\n",
      "2010-01-02 04:00:00      138.0   -7  -5.0    1022.0    SE     6.25     2     0\n"
     ]
    }
   ],
   "source": [
    "# Data cleaning\n",
    "dataset.drop('No', axis=1, inplace=True)\n",
    "dataset.columns = col_names\n",
    "dataset['pollution'].fillna(0, inplace=True)\n",
    "dataset = dataset[24:] # drop the first day\n",
    "print(dataset.head(5))\n",
    "dataset.to_csv('pollution.csv') # save new CSV"
   ]
  },
  {
   "cell_type": "code",
   "execution_count": 4,
   "metadata": {
    "colab": {
     "base_uri": "https://localhost:8080/",
     "height": 287
    },
    "colab_type": "code",
    "id": "hODxdje9z-u7",
    "outputId": "49910a86-cb24-451b-b1ad-1a6561a5b3e8"
   },
   "outputs": [
    {
     "data": {
      "text/html": [
       "<div>\n",
       "<style scoped>\n",
       "    .dataframe tbody tr th:only-of-type {\n",
       "        vertical-align: middle;\n",
       "    }\n",
       "\n",
       "    .dataframe tbody tr th {\n",
       "        vertical-align: top;\n",
       "    }\n",
       "\n",
       "    .dataframe thead th {\n",
       "        text-align: right;\n",
       "    }\n",
       "</style>\n",
       "<table border=\"1\" class=\"dataframe\">\n",
       "  <thead>\n",
       "    <tr style=\"text-align: right;\">\n",
       "      <th></th>\n",
       "      <th>pollution</th>\n",
       "      <th>dew</th>\n",
       "      <th>temp</th>\n",
       "      <th>pressure</th>\n",
       "      <th>w_speed</th>\n",
       "      <th>snow</th>\n",
       "      <th>rain</th>\n",
       "    </tr>\n",
       "  </thead>\n",
       "  <tbody>\n",
       "    <tr>\n",
       "      <th>count</th>\n",
       "      <td>43800.000000</td>\n",
       "      <td>43800.000000</td>\n",
       "      <td>43800.000000</td>\n",
       "      <td>43800.000000</td>\n",
       "      <td>43800.000000</td>\n",
       "      <td>43800.000000</td>\n",
       "      <td>43800.000000</td>\n",
       "    </tr>\n",
       "    <tr>\n",
       "      <th>mean</th>\n",
       "      <td>94.013516</td>\n",
       "      <td>1.828516</td>\n",
       "      <td>12.459041</td>\n",
       "      <td>1016.447306</td>\n",
       "      <td>23.894307</td>\n",
       "      <td>0.052763</td>\n",
       "      <td>0.195023</td>\n",
       "    </tr>\n",
       "    <tr>\n",
       "      <th>std</th>\n",
       "      <td>92.252276</td>\n",
       "      <td>14.429326</td>\n",
       "      <td>12.193384</td>\n",
       "      <td>10.271411</td>\n",
       "      <td>50.022729</td>\n",
       "      <td>0.760582</td>\n",
       "      <td>1.416247</td>\n",
       "    </tr>\n",
       "    <tr>\n",
       "      <th>min</th>\n",
       "      <td>0.000000</td>\n",
       "      <td>-40.000000</td>\n",
       "      <td>-19.000000</td>\n",
       "      <td>991.000000</td>\n",
       "      <td>0.450000</td>\n",
       "      <td>0.000000</td>\n",
       "      <td>0.000000</td>\n",
       "    </tr>\n",
       "    <tr>\n",
       "      <th>25%</th>\n",
       "      <td>24.000000</td>\n",
       "      <td>-10.000000</td>\n",
       "      <td>2.000000</td>\n",
       "      <td>1008.000000</td>\n",
       "      <td>1.790000</td>\n",
       "      <td>0.000000</td>\n",
       "      <td>0.000000</td>\n",
       "    </tr>\n",
       "    <tr>\n",
       "      <th>50%</th>\n",
       "      <td>68.000000</td>\n",
       "      <td>2.000000</td>\n",
       "      <td>14.000000</td>\n",
       "      <td>1016.000000</td>\n",
       "      <td>5.370000</td>\n",
       "      <td>0.000000</td>\n",
       "      <td>0.000000</td>\n",
       "    </tr>\n",
       "    <tr>\n",
       "      <th>75%</th>\n",
       "      <td>132.250000</td>\n",
       "      <td>15.000000</td>\n",
       "      <td>23.000000</td>\n",
       "      <td>1025.000000</td>\n",
       "      <td>21.910000</td>\n",
       "      <td>0.000000</td>\n",
       "      <td>0.000000</td>\n",
       "    </tr>\n",
       "    <tr>\n",
       "      <th>max</th>\n",
       "      <td>994.000000</td>\n",
       "      <td>28.000000</td>\n",
       "      <td>42.000000</td>\n",
       "      <td>1046.000000</td>\n",
       "      <td>585.600000</td>\n",
       "      <td>27.000000</td>\n",
       "      <td>36.000000</td>\n",
       "    </tr>\n",
       "  </tbody>\n",
       "</table>\n",
       "</div>"
      ],
      "text/plain": [
       "          pollution           dew          temp      pressure       w_speed  \\\n",
       "count  43800.000000  43800.000000  43800.000000  43800.000000  43800.000000   \n",
       "mean      94.013516      1.828516     12.459041   1016.447306     23.894307   \n",
       "std       92.252276     14.429326     12.193384     10.271411     50.022729   \n",
       "min        0.000000    -40.000000    -19.000000    991.000000      0.450000   \n",
       "25%       24.000000    -10.000000      2.000000   1008.000000      1.790000   \n",
       "50%       68.000000      2.000000     14.000000   1016.000000      5.370000   \n",
       "75%      132.250000     15.000000     23.000000   1025.000000     21.910000   \n",
       "max      994.000000     28.000000     42.000000   1046.000000    585.600000   \n",
       "\n",
       "               snow          rain  \n",
       "count  43800.000000  43800.000000  \n",
       "mean       0.052763      0.195023  \n",
       "std        0.760582      1.416247  \n",
       "min        0.000000      0.000000  \n",
       "25%        0.000000      0.000000  \n",
       "50%        0.000000      0.000000  \n",
       "75%        0.000000      0.000000  \n",
       "max       27.000000     36.000000  "
      ]
     },
     "execution_count": 4,
     "metadata": {},
     "output_type": "execute_result"
    }
   ],
   "source": [
    "# load dataset\n",
    "df = pd.read_csv('pollution.csv', header=0, index_col=0)\n",
    "df.describe()"
   ]
  },
  {
   "cell_type": "code",
   "execution_count": 5,
   "metadata": {
    "colab": {
     "base_uri": "https://localhost:8080/",
     "height": 34
    },
    "colab_type": "code",
    "id": "bZOvBDD_0XKz",
    "outputId": "ae00983d-43e7-4896-e3db-9b43813ecd43"
   },
   "outputs": [
    {
     "data": {
      "text/plain": [
       "['pollution', 'dew', 'temp', 'pressure', 'w_dir', 'w_speed', 'snow', 'rain']"
      ]
     },
     "execution_count": 5,
     "metadata": {},
     "output_type": "execute_result"
    }
   ],
   "source": [
    "dataset_columns = df.columns.tolist()\n",
    "dataset_columns"
   ]
  },
  {
   "cell_type": "code",
   "execution_count": 6,
   "metadata": {
    "colab": {
     "base_uri": "https://localhost:8080/",
     "height": 227
    },
    "colab_type": "code",
    "id": "OEfwEvtl0XHY",
    "outputId": "9362eac6-8bec-44cb-869f-ca2bb3425897"
   },
   "outputs": [
    {
     "data": {
      "text/html": [
       "<div>\n",
       "<style scoped>\n",
       "    .dataframe tbody tr th:only-of-type {\n",
       "        vertical-align: middle;\n",
       "    }\n",
       "\n",
       "    .dataframe tbody tr th {\n",
       "        vertical-align: top;\n",
       "    }\n",
       "\n",
       "    .dataframe thead th {\n",
       "        text-align: right;\n",
       "    }\n",
       "</style>\n",
       "<table border=\"1\" class=\"dataframe\">\n",
       "  <thead>\n",
       "    <tr style=\"text-align: right;\">\n",
       "      <th></th>\n",
       "      <th>pollution</th>\n",
       "    </tr>\n",
       "    <tr>\n",
       "      <th>year_month_day_hour</th>\n",
       "      <th></th>\n",
       "    </tr>\n",
       "  </thead>\n",
       "  <tbody>\n",
       "    <tr>\n",
       "      <th>2010-01-02 00:00:00</th>\n",
       "      <td>129.0</td>\n",
       "    </tr>\n",
       "    <tr>\n",
       "      <th>2010-01-02 01:00:00</th>\n",
       "      <td>148.0</td>\n",
       "    </tr>\n",
       "    <tr>\n",
       "      <th>2010-01-02 02:00:00</th>\n",
       "      <td>159.0</td>\n",
       "    </tr>\n",
       "    <tr>\n",
       "      <th>2010-01-02 03:00:00</th>\n",
       "      <td>181.0</td>\n",
       "    </tr>\n",
       "    <tr>\n",
       "      <th>2010-01-02 04:00:00</th>\n",
       "      <td>138.0</td>\n",
       "    </tr>\n",
       "  </tbody>\n",
       "</table>\n",
       "</div>"
      ],
      "text/plain": [
       "                     pollution\n",
       "year_month_day_hour           \n",
       "2010-01-02 00:00:00      129.0\n",
       "2010-01-02 01:00:00      148.0\n",
       "2010-01-02 02:00:00      159.0\n",
       "2010-01-02 03:00:00      181.0\n",
       "2010-01-02 04:00:00      138.0"
      ]
     },
     "execution_count": 6,
     "metadata": {},
     "output_type": "execute_result"
    }
   ],
   "source": [
    "#Dropping other columns except pollution column\n",
    "df = df.drop(['dew', 'temp', 'pressure', 'w_dir', 'w_speed', 'snow', 'rain'],axis = 1)\n",
    "df.head()"
   ]
  },
  {
   "cell_type": "code",
   "execution_count": 7,
   "metadata": {
    "colab": {
     "base_uri": "https://localhost:8080/",
     "height": 282
    },
    "colab_type": "code",
    "id": "E_ObwUtG0XE0",
    "outputId": "cb6e67bc-3885-4119-e24d-2c46a8305fd6"
   },
   "outputs": [
    {
     "data": {
      "text/plain": [
       "<Axes: >"
      ]
     },
     "execution_count": 7,
     "metadata": {},
     "output_type": "execute_result"
    },
    {
     "data": {
      "image/png": "[encoded data removed]",
      "text/plain": [
       "<Figure size 640x480 with 1 Axes>"
      ]
     },
     "metadata": {},
     "output_type": "display_data"
    }
   ],
   "source": [
    "#Box plot\n",
    "#pd.options.display.mpl_style = False\n",
    "df.boxplot()"
   ]
  },
  {
   "cell_type": "code",
   "execution_count": 8,
   "metadata": {
    "colab": {},
    "colab_type": "code",
    "id": "OcFDZKeAz-oL"
   },
   "outputs": [],
   "source": [
    "#Normalising data\n",
    "from sklearn.preprocessing import MinMaxScaler\n",
    "\n",
    "values = df.values\n",
    "scaler = MinMaxScaler(feature_range=(0, 1))\n",
    "scaled_dataset = scaler.fit_transform(values)"
   ]
  },
  {
   "cell_type": "code",
   "execution_count": 9,
   "metadata": {
    "colab": {
     "base_uri": "https://localhost:8080/",
     "height": 52
    },
    "colab_type": "code",
    "id": "QqwU_Bn61Kig",
    "outputId": "6ec4cc82-4e98-4dd2-f88e-0d90f07f44f3"
   },
   "outputs": [
    {
     "data": {
      "text/plain": [
       "array([[0.12977867],\n",
       "       [0.14889336]])"
      ]
     },
     "execution_count": 9,
     "metadata": {},
     "output_type": "execute_result"
    }
   ],
   "source": [
    "scaled_dataset[:2,:]"
   ]
  },
  {
   "cell_type": "code",
   "execution_count": 10,
   "metadata": {
    "colab": {},
    "colab_type": "code",
    "id": "19kEMS951Kf7"
   },
   "outputs": [],
   "source": [
    "#Creating a window for previous data\n",
    "def create_sliding_windows(data, window_size):\n",
    "    X = []\n",
    "    Y = []\n",
    "    for i in range(window_size, len(data)):\n",
    "        X.append(data[i - window_size : i, :])\n",
    "        Y.append(data[i, 0:1])\n",
    "\n",
    "    return X, Y"
   ]
  },
  {
   "cell_type": "code",
   "execution_count": 11,
   "metadata": {
    "colab": {
     "base_uri": "https://localhost:8080/",
     "height": 52
    },
    "colab_type": "code",
    "id": "oO64hfBv178P",
    "outputId": "90e9d0a1-e76f-456d-a63b-6ec85c2964c8"
   },
   "outputs": [
    {
     "name": "stdout",
     "output_type": "stream",
     "text": [
      "Y (43796, 1)\n",
      "X (43796, 4, 1)\n"
     ]
    }
   ],
   "source": [
    "X, Y = create_sliding_windows(scaled_dataset, 4)\n",
    "X = np.array(X)\n",
    "Y = np.array(Y)\n",
    "print('Y' ,Y.shape)\n",
    "print('X' ,X.shape)\n"
   ]
  },
  {
   "cell_type": "code",
   "execution_count": 12,
   "metadata": {
    "colab": {
     "base_uri": "https://localhost:8080/",
     "height": 87
    },
    "colab_type": "code",
    "id": "ThfjtJMr1-fz",
    "outputId": "28f34ba8-b388-4664-c6e7-d5be2776cdc0"
   },
   "outputs": [
    {
     "name": "stdout",
     "output_type": "stream",
     "text": [
      "X_train (35036, 4, 1)\n",
      "X_test (8760, 4, 1)\n",
      "Y_train (35036, 1)\n",
      "Y_test (8760, 1)\n"
     ]
    }
   ],
   "source": [
    "#Splitting the dataset\n",
    "n_train = 24*365\n",
    "X_train, X_test = X[n_train:,] , X[:n_train,]\n",
    "print('X_train' ,X_train.shape)\n",
    "print('X_test' ,X_test.shape)\n",
    "\n",
    "Y_train, Y_test = Y[n_train:,] , Y[:n_train,]\n",
    "print('Y_train' ,Y_train.shape)\n",
    "print('Y_test' ,Y_test.shape)"
   ]
  },
  {
   "cell_type": "code",
   "execution_count": 13,
   "metadata": {
    "colab": {
     "base_uri": "https://localhost:8080/",
     "height": 34
    },
    "colab_type": "code",
    "id": "EGjjCDNO2EZZ",
    "outputId": "c158f6ed-555b-423d-ae62-2e8f63d29c65"
   },
   "outputs": [],
   "source": [
    "#Importing LSTM model\n",
    "from keras.models import Sequential\n",
    "from keras.layers import Dense, Dropout,LSTM\n",
    "model = Sequential()\n",
    "\n",
    "model.add(LSTM(units = 30, return_sequences = True, input_shape=(X_train.shape[1], X_train.shape[2])))\n",
    "model.add(Dropout(0.2))\n",
    "\n",
    "model.add(LSTM(units = 20, return_sequences = True))\n",
    "model.add(Dropout(0.2))\n",
    "\n",
    "model.add(LSTM(units = 20))\n",
    "model.add(Dropout(0.2))\n",
    "\n",
    "model.add(Dense(units = 1))\n",
    "\n",
    "model.compile(optimizer = 'adam', loss = 'mean_squared_error')         "
   ]
  },
  {
   "cell_type": "code",
   "execution_count": 14,
   "metadata": {
    "colab": {
     "base_uri": "https://localhost:8080/",
     "height": 745
    },
    "colab_type": "code",
    "id": "aTnaV6Nx2HVt",
    "outputId": "bc6b328d-cf90-4c05-8c67-ef10fda22cc1"
   },
   "outputs": [
    {
     "name": "stdout",
     "output_type": "stream",
     "text": [
      "Epoch 1/5\n",
      "1095/1095 [==============================] - 11s 6ms/step - loss: 0.0023\n",
      "Epoch 2/5\n",
      "1095/1095 [==============================] - 7s 6ms/step - loss: 0.0011\n",
      "Epoch 3/5\n",
      "1095/1095 [==============================] - 6s 6ms/step - loss: 9.3906e-04\n",
      "Epoch 4/5\n",
      "1095/1095 [==============================] - 7s 6ms/step - loss: 9.2542e-04\n",
      "Epoch 5/5\n",
      "1095/1095 [==============================] - 6s 6ms/step - loss: 9.2000e-04\n"
     ]
    },
    {
     "data": {
      "text/plain": [
       "<keras.callbacks.History at 0x24d1450c550>"
      ]
     },
     "execution_count": 14,
     "metadata": {},
     "output_type": "execute_result"
    }
   ],
   "source": [
    "#Train the model\n",
    "model.fit(X_train, Y_train, epochs = 5, batch_size = 32)"
   ]
  },
  {
   "cell_type": "code",
   "execution_count": 15,
   "metadata": {
    "colab": {
     "base_uri": "https://localhost:8080/",
     "height": 34
    },
    "colab_type": "code",
    "id": "6NoxEFJB2KRk",
    "outputId": "ea2af02f-bed5-4bb0-e804-279c8060ec30"
   },
   "outputs": [
    {
     "name": "stdout",
     "output_type": "stream",
     "text": [
      "274/274 [==============================] - 1s 2ms/step\n"
     ]
    },
    {
     "data": {
      "text/plain": [
       "0.031283724754361565"
      ]
     },
     "execution_count": 15,
     "metadata": {},
     "output_type": "execute_result"
    }
   ],
   "source": [
    "#Taking predictions\n",
    "Y_pred = model.predict(X_test)\n",
    "\n",
    "from sklearn.metrics import mean_squared_error\n",
    "mse = mean_squared_error(Y_test, Y_pred)\n",
    "\n",
    "rmse = np.sqrt(mse)\n",
    "rmse"
   ]
  },
  {
   "cell_type": "code",
   "execution_count": 16,
   "metadata": {
    "colab": {
     "base_uri": "https://localhost:8080/",
     "height": 70
    },
    "colab_type": "code",
    "id": "RT2C7Lqo2OdT",
    "outputId": "2f4d3c09-bb5f-4212-9cca-bcae0a68cce2"
   },
   "outputs": [
    {
     "name": "stdout",
     "output_type": "stream",
     "text": [
      "y_predicted (8760, 1)\n",
      "X_test (8760, 4, 1)\n",
      "scaled Values shape (43800, 1)\n"
     ]
    }
   ],
   "source": [
    "#Y_predicted = scaler.inverse_transform(Y_pred)\n",
    "print('y_predicted',Y_pred.shape)\n",
    "#print('X_train' ,X_train.shape)\n",
    "print('X_test' ,X_test.shape)\n",
    "print('scaled Values shape', scaled_dataset.shape)"
   ]
  },
  {
   "cell_type": "code",
   "execution_count": 17,
   "metadata": {
    "colab": {
     "base_uri": "https://localhost:8080/",
     "height": 87
    },
    "colab_type": "code",
    "id": "SuNCFlQX2ObA",
    "outputId": "30ca2c3e-dc60-42a7-d7d5-ad9288e3375e"
   },
   "outputs": [
    {
     "name": "stdout",
     "output_type": "stream",
     "text": [
      "dummy (8760, 1)\n",
      "Y_pred (8760, 1)\n",
      "concat y_pred (8760, 1)\n",
      "concat Y_test (8760, 1)\n"
     ]
    }
   ],
   "source": [
    "#Scaling back to the original scale\n",
    "d = scaled_dataset[:8760,:]\n",
    "print('dummy',d.shape)\n",
    "print('Y_pred',Y_pred.shape)\n",
    "Y_predicted = np.concatenate((Y_pred,d[:8760,1:]), axis =1)\n",
    "print('concat y_pred',Y_pred.shape)\n",
    "Y_tested = np.concatenate((Y_test, d[:8760,1:]), axis = 1)\n",
    "print('concat Y_test', Y_test.shape)"
   ]
  },
  {
   "cell_type": "code",
   "execution_count": 18,
   "metadata": {
    "colab": {
     "base_uri": "https://localhost:8080/",
     "height": 52
    },
    "colab_type": "code",
    "id": "qoRYzULv2X6A",
    "outputId": "e9a632b0-8ba6-46f0-cb94-879d1ab00f9b"
   },
   "outputs": [
    {
     "name": "stdout",
     "output_type": "stream",
     "text": [
      "Y_tested (8760, 1)\n",
      "Y_predicted (8760, 1)\n"
     ]
    }
   ],
   "source": [
    "#Take inverse transform\n",
    "Y_predicted = scaler.inverse_transform(Y_predicted)\n",
    "Y_tested = scaler.inverse_transform(Y_tested)\n",
    "Y_predicted = Y_predicted[:,0:1]\n",
    "Y_tested = Y_tested[:,0:1]\n",
    "print('Y_tested', Y_tested.shape)\n",
    "print('Y_predicted', Y_predicted.shape)"
   ]
  },
  {
   "cell_type": "code",
   "execution_count": 19,
   "metadata": {
    "colab": {
     "base_uri": "https://localhost:8080/",
     "height": 34
    },
    "colab_type": "code",
    "id": "jbJ2CUwS2X3T",
    "outputId": "950f3170-9762-4c6e-ecb8-33fb0ebafce5"
   },
   "outputs": [
    {
     "data": {
      "text/plain": [
       "31.09602240583539"
      ]
     },
     "execution_count": 19,
     "metadata": {},
     "output_type": "execute_result"
    }
   ],
   "source": [
    "#Calculate error\n",
    "from sklearn.metrics import mean_squared_error\n",
    "mse = mean_squared_error(Y_tested, Y_predicted)\n",
    "\n",
    "rmse = np.sqrt(mse)\n",
    "rmse"
   ]
  },
  {
   "cell_type": "code",
   "execution_count": 20,
   "metadata": {
    "colab": {
     "base_uri": "https://localhost:8080/",
     "height": 294
    },
    "colab_type": "code",
    "id": "5g7NWJQq2cN5",
    "outputId": "c52b1c3d-05da-4727-b3d0-b0615ce033ed"
   },
   "outputs": [
    {
     "data": {
      "image/png": "[encoded data removed]",
      "text/plain": [
       "<Figure size 640x480 with 1 Axes>"
      ]
     },
     "metadata": {},
     "output_type": "display_data"
    }
   ],
   "source": [
    "#Plot the graph between actual vs predicted values\n",
    "plt.plot(Y_predicted[:100,:], color= 'green')\n",
    "plt.plot(Y_tested[:100,:] , color = 'red')\n",
    "plt.title(\"Air Pollution Prediction (Multivariate)\")\n",
    "plt.xlabel(\"Date\")\n",
    "plt.ylabel(\"Pollution level\")\n",
    "plt.show()"
   ]
  },
  {
   "cell_type": "code",
   "execution_count": 23,
   "metadata": {
    "colab": {
     "base_uri": "https://localhost:8080/",
     "height": 52
    },
    "colab_type": "code",
    "id": "Kwo-yw2t2i0m",
    "outputId": "5ae0cb36-91d0-4786-f32b-96a4658108ec"
   },
   "outputs": [
    {
     "name": "stdout",
     "output_type": "stream",
     "text": [
      "RMSE 31.09602240583539\n",
      "Mean of Test data  96.04143835616438\n"
     ]
    }
   ],
   "source": [
    "from sklearn.metrics import mean_squared_error\n",
    "mse = mean_squared_error(Y_tested, Y_predicted)\n",
    "#print('Mean squared error', mse)\n",
    "print('RMSE' , np.sqrt(mse))\n",
    "print(\"Mean of Test data \", np.mean(Y_tested))"
   ]
  },
  {
   "cell_type": "code",
   "execution_count": null,
   "metadata": {
    "colab": {},
    "colab_type": "code",
    "id": "VO72iNhZ3U4M"
   },
   "outputs": [],
   "source": []
  }
 ],
 "metadata": {
  "colab": {
   "name": "AirPollutionUnivariate.ipynb",
   "provenance": []
  },
  "kernelspec": {
   "display_name": "Python 3 (ipykernel)",
   "language": "python",
   "name": "python3"
  },
  "language_info": {
   "codemirror_mode": {
    "name": "ipython",
    "version": 3
   },
   "file_extension": ".py",
   "mimetype": "text/x-python",
   "name": "python",
   "nbconvert_exporter": "python",
   "pygments_lexer": "ipython3",
   "version": "3.10.7"
  }
 },
 "nbformat": 4,
 "nbformat_minor": 1
}
